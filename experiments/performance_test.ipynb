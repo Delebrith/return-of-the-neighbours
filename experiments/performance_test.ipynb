{
 "cells": [
  {
   "cell_type": "code",
   "execution_count": 25,
   "metadata": {},
   "outputs": [],
   "source": [
    "import time\n",
    "from sklearn.datasets import make_blobs\n",
    "import matplotlib.pyplot as plt\n",
    "import sys\n",
    "import numpy as np\n",
    "import itertools\n",
    "import seaborn as sns\n",
    "\n",
    "sys.path.insert(0, \"../kNN_NBC/x64/Release\")\n",
    "import pynbc"
   ]
  },
  {
   "cell_type": "markdown",
   "metadata": {},
   "source": [
    "# Performance test\n",
    "100, 1000, 10000, 100000 - samples\n",
    "\n",
    "2, 4, 8, 16, 32 - dimension\n",
    "\n",
    "10 - k"
   ]
  },
  {
   "cell_type": "code",
   "execution_count": 11,
   "metadata": {},
   "outputs": [],
   "source": [
    "def test_kNN(samples, dimension, k) :\n",
    "    dataset = make_blobs(n_samples = samples, centers = int(samples ** 0.5), n_features = dimension, random_state = 12345)\n",
    "    \n",
    "    start = time.time()\n",
    "    pynbc.nbc_kNN(k, 0, dataset[0])\n",
    "    end = time.time()\n",
    "    return end - start;\n"
   ]
  },
  {
   "cell_type": "code",
   "execution_count": 9,
   "metadata": {},
   "outputs": [],
   "source": [
    "def test_kpNN(samples, dimension, k) :\n",
    "    dataset = make_blobs(n_samples = samples, centers = int(samples ** 0.5), n_features = dimension, random_state = 12345)\n",
    "    \n",
    "    start = time.time()\n",
    "    pynbc.nbc_kpNN(k, 0, dataset[0])\n",
    "    end = time.time()\n",
    "    return end - start;\n"
   ]
  },
  {
   "cell_type": "code",
   "execution_count": 33,
   "metadata": {},
   "outputs": [],
   "source": [
    "samples = [100, 1000, 10000]\n",
    "dims = [2, 4, 8, 16]\n",
    "ks = [10]\n",
    "params = list(itertools.product(samples, dims, ks))"
   ]
  },
  {
   "cell_type": "code",
   "execution_count": 34,
   "metadata": {},
   "outputs": [],
   "source": [
    "results_kNN = [\n",
    "    test_kNN(s, d, k) for s, d, k in params\n",
    "]"
   ]
  },
  {
   "cell_type": "code",
   "execution_count": 35,
   "metadata": {},
   "outputs": [
    {
     "data": {
      "text/plain": [
       "[((100, 2, 10), 0.0),\n",
       " ((100, 4, 10), 0.0),\n",
       " ((100, 8, 10), 0.0009975433349609375),\n",
       " ((100, 16, 10), 0.001995086669921875),\n",
       " ((1000, 2, 10), 0.009985208511352539),\n",
       " ((1000, 4, 10), 0.022969484329223633),\n",
       " ((1000, 8, 10), 0.0449070930480957),\n",
       " ((1000, 16, 10), 0.08873605728149414),\n",
       " ((10000, 2, 10), 0.2184157371520996),\n",
       " ((10000, 4, 10), 1.2745611667633057),\n",
       " ((10000, 8, 10), 3.4976227283477783),\n",
       " ((10000, 16, 10), 7.8829567432403564)]"
      ]
     },
     "execution_count": 35,
     "metadata": {},
     "output_type": "execute_result"
    }
   ],
   "source": [
    "list(zip(params, results_kNN))"
   ]
  },
  {
   "cell_type": "code",
   "execution_count": 38,
   "metadata": {},
   "outputs": [
    {
     "data": {
      "text/plain": [
       "Text(33.0, 0.5, 'dimensions')"
      ]
     },
     "execution_count": 38,
     "metadata": {},
     "output_type": "execute_result"
    },
    {
     "data": {
      "image/png": "[encoded data removed]",
      "text/plain": [
       "<Figure size 432x288 with 2 Axes>"
      ]
     },
     "metadata": {
      "needs_background": "light"
     },
     "output_type": "display_data"
    }
   ],
   "source": [
    "sns.heatmap(np.reshape(results_kNN, (len(dims), len(samples))), annot=True, xticklabels=samples, yticklabels=dims)\n",
    "plt.xlabel('samples')\n",
    "plt.ylabel('dimensions')"
   ]
  }
 ],
 "metadata": {
  "kernelspec": {
   "display_name": "Python 3",
   "language": "python",
   "name": "python3"
  },
  "language_info": {
   "codemirror_mode": {
    "name": "ipython",
    "version": 3
   },
   "file_extension": ".py",
   "mimetype": "text/x-python",
   "name": "python",
   "nbconvert_exporter": "python",
   "pygments_lexer": "ipython3",
   "version": "3.7.1"
  }
 },
 "nbformat": 4,
 "nbformat_minor": 4
}
